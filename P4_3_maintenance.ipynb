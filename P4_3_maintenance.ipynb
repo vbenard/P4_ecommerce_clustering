{
 "cells": [
  {
   "cell_type": "code",
   "execution_count": 1,
   "id": "ab463e9c",
   "metadata": {},
   "outputs": [],
   "source": [
    "%load_ext pycodestyle_magic\n",
    "%pycodestyle_on"
   ]
  },
  {
   "cell_type": "markdown",
   "id": "6c865964",
   "metadata": {},
   "source": [
    "# Part ③ - Maintenance"
   ]
  },
  {
   "cell_type": "markdown",
   "id": "56414962",
   "metadata": {},
   "source": [
    "## Table of contents\n",
    "- <a href='#C0'>0. Importing libraries and dataframe</a>\n",
    "- <a href='#C1'>1. Maintenance</a>"
   ]
  },
  {
   "cell_type": "markdown",
   "id": "d5f41613",
   "metadata": {},
   "source": [
    "# <a name='C0'>0. Importing libraries and dataframe</a>"
   ]
  },
  {
   "cell_type": "code",
   "execution_count": 52,
   "id": "d94c642c",
   "metadata": {},
   "outputs": [],
   "source": [
    "import pandas as pd\n",
    "import numpy as np\n",
    "import seaborn as sns\n",
    "import matplotlib.pyplot as plt\n",
    "import numpy as np\n",
    "from scipy import stats\n",
    "from scipy.cluster.hierarchy import dendrogram\n",
    "from math import pi\n",
    "from random import randrange\n",
    "import time\n",
    "\n",
    "import matplotlib.image as mpimg\n",
    "import plotly.graph_objects as go\n",
    "import plotly.express as px\n",
    "import geopandas as gpd\n",
    "import os\n",
    "if not os.path.exists('images'):\n",
    "    os.mkdir('images')\n",
    "\n",
    "from sklearn.preprocessing import StandardScaler, MinMaxScaler\n",
    "from sklearn.cluster import KMeans, AgglomerativeClustering, DBSCAN\n",
    "from yellowbrick.cluster import KElbowVisualizer, SilhouetteVisualizer\n",
    "from sklearn.metrics import silhouette_score, adjusted_rand_score,\\\n",
    "    davies_bouldin_score\n",
    "from sklearn import decomposition\n",
    "from sklearn import manifold\n",
    "from sklearn.manifold import TSNE\n",
    "import umap\n",
    "from datetime import datetime, timedelta\n",
    "from sklearn.metrics.cluster import adjusted_rand_score\n",
    "from sklearn import cluster"
   ]
  },
  {
   "cell_type": "code",
   "execution_count": 2,
   "id": "a780b7cd",
   "metadata": {},
   "outputs": [],
   "source": [
    "pd.set_option('display.max_columns', None)\n",
    "pd.set_option('display.max_rows', None)\n",
    "sns.set_style(\"white\")"
   ]
  },
  {
   "cell_type": "code",
   "execution_count": 3,
   "id": "5d210267",
   "metadata": {},
   "outputs": [],
   "source": [
    "df = pd.read_csv('df_rfm.csv')"
   ]
  },
  {
   "cell_type": "code",
   "execution_count": 13,
   "id": "7157dce5",
   "metadata": {},
   "outputs": [
    {
     "data": {
      "text/html": [
       "<div>\n",
       "<style scoped>\n",
       "    .dataframe tbody tr th:only-of-type {\n",
       "        vertical-align: middle;\n",
       "    }\n",
       "\n",
       "    .dataframe tbody tr th {\n",
       "        vertical-align: top;\n",
       "    }\n",
       "\n",
       "    .dataframe thead th {\n",
       "        text-align: right;\n",
       "    }\n",
       "</style>\n",
       "<table border=\"1\" class=\"dataframe\">\n",
       "  <thead>\n",
       "    <tr style=\"text-align: right;\">\n",
       "      <th></th>\n",
       "      <th>monetary</th>\n",
       "      <th>frequency</th>\n",
       "      <th>recency</th>\n",
       "      <th>perc_credit</th>\n",
       "      <th>mean_review_score</th>\n",
       "      <th>mean_nb_of_items</th>\n",
       "      <th>product_weight_g</th>\n",
       "    </tr>\n",
       "  </thead>\n",
       "  <tbody>\n",
       "    <tr>\n",
       "      <th>0</th>\n",
       "      <td>3.691376</td>\n",
       "      <td>0.693147</td>\n",
       "      <td>302</td>\n",
       "      <td>0.0</td>\n",
       "      <td>5.0</td>\n",
       "      <td>0.693147</td>\n",
       "      <td>5.525453</td>\n",
       "    </tr>\n",
       "    <tr>\n",
       "      <th>1</th>\n",
       "      <td>5.399429</td>\n",
       "      <td>1.098612</td>\n",
       "      <td>96</td>\n",
       "      <td>0.0</td>\n",
       "      <td>5.0</td>\n",
       "      <td>0.693147</td>\n",
       "      <td>6.883463</td>\n",
       "    </tr>\n",
       "    <tr>\n",
       "      <th>2</th>\n",
       "      <td>7.026427</td>\n",
       "      <td>0.693147</td>\n",
       "      <td>215</td>\n",
       "      <td>1.0</td>\n",
       "      <td>4.0</td>\n",
       "      <td>0.693147</td>\n",
       "      <td>9.655090</td>\n",
       "    </tr>\n",
       "    <tr>\n",
       "      <th>3</th>\n",
       "      <td>3.921775</td>\n",
       "      <td>0.693147</td>\n",
       "      <td>17</td>\n",
       "      <td>0.0</td>\n",
       "      <td>5.0</td>\n",
       "      <td>0.693147</td>\n",
       "      <td>7.244942</td>\n",
       "    </tr>\n",
       "    <tr>\n",
       "      <th>4</th>\n",
       "      <td>4.756689</td>\n",
       "      <td>0.693147</td>\n",
       "      <td>192</td>\n",
       "      <td>1.0</td>\n",
       "      <td>5.0</td>\n",
       "      <td>0.693147</td>\n",
       "      <td>6.311735</td>\n",
       "    </tr>\n",
       "  </tbody>\n",
       "</table>\n",
       "</div>"
      ],
      "text/plain": [
       "   monetary  frequency  recency  perc_credit  mean_review_score  \\\n",
       "0  3.691376   0.693147      302          0.0                5.0   \n",
       "1  5.399429   1.098612       96          0.0                5.0   \n",
       "2  7.026427   0.693147      215          1.0                4.0   \n",
       "3  3.921775   0.693147       17          0.0                5.0   \n",
       "4  4.756689   0.693147      192          1.0                5.0   \n",
       "\n",
       "   mean_nb_of_items  product_weight_g  \n",
       "0          0.693147          5.525453  \n",
       "1          0.693147          6.883463  \n",
       "2          0.693147          9.655090  \n",
       "3          0.693147          7.244942  \n",
       "4          0.693147          6.311735  "
      ]
     },
     "execution_count": 13,
     "metadata": {},
     "output_type": "execute_result"
    }
   ],
   "source": [
    "df.head()"
   ]
  },
  {
   "cell_type": "code",
   "execution_count": 10,
   "id": "9527473f",
   "metadata": {
    "scrolled": false
   },
   "outputs": [
    {
     "data": {
      "text/plain": [
       "count    10000.000000\n",
       "mean       237.473900\n",
       "std        153.685649\n",
       "min          0.000000\n",
       "25%        112.000000\n",
       "50%        218.000000\n",
       "75%        349.000000\n",
       "max        694.000000\n",
       "Name: recency, dtype: float64"
      ]
     },
     "execution_count": 10,
     "metadata": {},
     "output_type": "execute_result"
    }
   ],
   "source": [
    "df.recency.describe()"
   ]
  },
  {
   "cell_type": "markdown",
   "id": "5bef4aea",
   "metadata": {},
   "source": [
    "# <a name='C1'>1. Maintenance</a>"
   ]
  },
  {
   "cell_type": "code",
   "execution_count": 128,
   "id": "8c42d87e",
   "metadata": {},
   "outputs": [],
   "source": [
    "def stability(df, model, nb_iter=10):\n",
    "\n",
    "    date_min = 0\n",
    "    date_init = 360\n",
    "    date_max = 500\n",
    "\n",
    "    mask1 = (df.recency < date_init)\n",
    "    X_init = df[mask1]\n",
    "    model.fit(X_init)\n",
    "    clusters_init = model.labels_\n",
    "\n",
    "    ARI_results = pd.DataFrame()\n",
    "    index = -1\n",
    "    date_lim = date_init\n",
    "\n",
    "    while date_lim < date_max:\n",
    "        index += 1\n",
    "        mask2 = (df.recency < date_lim)\n",
    "        X_trunc = df[mask2]\n",
    "\n",
    "        ARI_scores = []\n",
    "        for i in range(nb_iter):\n",
    "            model.fit(X_trunc)\n",
    "            list_init = X_init.index\n",
    "            mask = X_trunc.index.isin(list_init)\n",
    "            clusters_new = model.labels_[mask]\n",
    "\n",
    "            ARI_score = adjusted_rand_score(clusters_init, clusters_new)\n",
    "            ARI_scores.append(ARI_score)\n",
    "\n",
    "            ARI_results.loc[index, 'period'] = date_lim\n",
    "            ARI_results.loc[index, 'ARI_score_mean'] =  np.mean(ARI_scores)\n",
    "\n",
    "        date_lim += 15\n",
    "\n",
    "    return ARI_results"
   ]
  },
  {
   "cell_type": "code",
   "execution_count": 129,
   "id": "981fcf48",
   "metadata": {},
   "outputs": [],
   "source": [
    "stability1 = stability(df,\n",
    "                       model = KMeans(n_clusters=7,\n",
    "                                      init='k-means++',\n",
    "                                      random_state=1)\n",
    "                       )"
   ]
  },
  {
   "cell_type": "code",
   "execution_count": 130,
   "id": "4ffca24a",
   "metadata": {},
   "outputs": [
    {
     "data": {
      "text/html": [
       "<div>\n",
       "<style scoped>\n",
       "    .dataframe tbody tr th:only-of-type {\n",
       "        vertical-align: middle;\n",
       "    }\n",
       "\n",
       "    .dataframe tbody tr th {\n",
       "        vertical-align: top;\n",
       "    }\n",
       "\n",
       "    .dataframe thead th {\n",
       "        text-align: right;\n",
       "    }\n",
       "</style>\n",
       "<table border=\"1\" class=\"dataframe\">\n",
       "  <thead>\n",
       "    <tr style=\"text-align: right;\">\n",
       "      <th></th>\n",
       "      <th>period</th>\n",
       "      <th>ARI_score_mean</th>\n",
       "    </tr>\n",
       "  </thead>\n",
       "  <tbody>\n",
       "    <tr>\n",
       "      <th>0</th>\n",
       "      <td>360.0</td>\n",
       "      <td>1.000000</td>\n",
       "    </tr>\n",
       "    <tr>\n",
       "      <th>1</th>\n",
       "      <td>375.0</td>\n",
       "      <td>0.989733</td>\n",
       "    </tr>\n",
       "    <tr>\n",
       "      <th>2</th>\n",
       "      <td>390.0</td>\n",
       "      <td>0.899704</td>\n",
       "    </tr>\n",
       "    <tr>\n",
       "      <th>3</th>\n",
       "      <td>405.0</td>\n",
       "      <td>0.873356</td>\n",
       "    </tr>\n",
       "    <tr>\n",
       "      <th>4</th>\n",
       "      <td>420.0</td>\n",
       "      <td>0.654486</td>\n",
       "    </tr>\n",
       "    <tr>\n",
       "      <th>5</th>\n",
       "      <td>435.0</td>\n",
       "      <td>0.648759</td>\n",
       "    </tr>\n",
       "    <tr>\n",
       "      <th>6</th>\n",
       "      <td>450.0</td>\n",
       "      <td>0.644466</td>\n",
       "    </tr>\n",
       "    <tr>\n",
       "      <th>7</th>\n",
       "      <td>465.0</td>\n",
       "      <td>0.632647</td>\n",
       "    </tr>\n",
       "    <tr>\n",
       "      <th>8</th>\n",
       "      <td>480.0</td>\n",
       "      <td>0.622457</td>\n",
       "    </tr>\n",
       "    <tr>\n",
       "      <th>9</th>\n",
       "      <td>495.0</td>\n",
       "      <td>0.611699</td>\n",
       "    </tr>\n",
       "  </tbody>\n",
       "</table>\n",
       "</div>"
      ],
      "text/plain": [
       "   period  ARI_score_mean\n",
       "0   360.0        1.000000\n",
       "1   375.0        0.989733\n",
       "2   390.0        0.899704\n",
       "3   405.0        0.873356\n",
       "4   420.0        0.654486\n",
       "5   435.0        0.648759\n",
       "6   450.0        0.644466\n",
       "7   465.0        0.632647\n",
       "8   480.0        0.622457\n",
       "9   495.0        0.611699"
      ]
     },
     "execution_count": 130,
     "metadata": {},
     "output_type": "execute_result"
    }
   ],
   "source": [
    "stability1"
   ]
  },
  {
   "cell_type": "code",
   "execution_count": 131,
   "id": "ca9c9442",
   "metadata": {},
   "outputs": [
    {
     "data": {
      "image/png": "[encoded data removed]",
      "text/plain": [
       "<Figure size 576x432 with 1 Axes>"
      ]
     },
     "metadata": {},
     "output_type": "display_data"
    }
   ],
   "source": [
    "fig, ax = plt.subplots(figsize=(8, 6))\n",
    "ax = sns.barplot(x=stability1.period,\n",
    "                   y=stability1.ARI_score_mean, \n",
    "                   color='#7B2E3E')\n",
    "\n",
    "container = ax.containers[0]\n",
    "df_len = len(stability1.period)\n",
    "ax.bar_label(container,\n",
    "             labels=[f'{x:.2f}' for x in container.datavalues],\n",
    "             label_type='edge',\n",
    "             size=15,\n",
    "             color='black'\n",
    "             )\n",
    "ax.spines['top'].set_visible(False)\n",
    "ax.spines['right'].set_visible(False)\n",
    "ax.spines['bottom'].set_visible(False)\n",
    "ax.grid(axis='y', color='black', ls=':')\n",
    "\n",
    "plt.title('ARI temporal evolution', fontsize=20, y=1.02)\n",
    "plt.xticks(fontsize=15)\n",
    "plt.yticks(fontsize=15)\n",
    "plt.xlabel('Days', fontsize=15)\n",
    "plt.ylabel('ARI score', fontsize=15)\n",
    "plt.tight_layout()\n",
    "plt.savefig('ARI_maintenance.png', transparent=True, bbox_inches='tight')\n",
    "plt.show()"
   ]
  },
  {
   "cell_type": "code",
   "execution_count": null,
   "id": "973d7734",
   "metadata": {},
   "outputs": [],
   "source": []
  }
 ],
 "metadata": {
  "kernelspec": {
   "display_name": "Python 3 (ipykernel)",
   "language": "python",
   "name": "python3"
  },
  "language_info": {
   "codemirror_mode": {
    "name": "ipython",
    "version": 3
   },
   "file_extension": ".py",
   "mimetype": "text/x-python",
   "name": "python",
   "nbconvert_exporter": "python",
   "pygments_lexer": "ipython3",
   "version": "3.9.7"
  }
 },
 "nbformat": 4,
 "nbformat_minor": 5
}
